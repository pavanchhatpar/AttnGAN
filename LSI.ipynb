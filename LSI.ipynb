{
  "nbformat": 4,
  "nbformat_minor": 0,
  "metadata": {
    "language_info": {
      "name": "python",
      "codemirror_mode": {
        "name": "ipython",
        "version": 3
      }
    },
    "orig_nbformat": 2,
    "file_extension": ".py",
    "mimetype": "text/x-python",
    "name": "python",
    "npconvert_exporter": "python",
    "pygments_lexer": "ipython3",
    "version": 3,
    "colab": {
      "name": "LSI.ipynb",
      "provenance": [],
      "include_colab_link": true
    }
  },
  "cells": [
    {
      "cell_type": "markdown",
      "metadata": {
        "id": "view-in-github",
        "colab_type": "text"
      },
      "source": [
        "<a href=\"https://colab.research.google.com/github/pavanchhatpar/AttnGAN/blob/master/LSI.ipynb\" target=\"_parent\"><img src=\"https://colab.research.google.com/assets/colab-badge.svg\" alt=\"Open In Colab\"/></a>"
      ]
    },
    {
      "cell_type": "markdown",
      "metadata": {
        "id": "FQssPBUfl9Ki",
        "colab_type": "text"
      },
      "source": [
        "# Latent Space Interpolation"
      ]
    },
    {
      "cell_type": "markdown",
      "metadata": {
        "id": "iirgflbAl9Kk",
        "colab_type": "text"
      },
      "source": [
        "[![Open In Colab](https://colab.research.google.com/assets/colab-badge.svg)](https://colab.research.google.com/github/pavanchhatpar/AttnGAN/blob/master/LSI.ipynb)"
      ]
    },
    {
      "cell_type": "markdown",
      "metadata": {
        "id": "U0u_anNdl9Kl",
        "colab_type": "text"
      },
      "source": [
        "## Setup"
      ]
    },
    {
      "cell_type": "markdown",
      "metadata": {
        "id": "x5tD-iWal9Kn",
        "colab_type": "text"
      },
      "source": [
        "## Prepare example inputs"
      ]
    },
    {
      "cell_type": "markdown",
      "metadata": {
        "id": "E-asuxRql9Ko",
        "colab_type": "text"
      },
      "source": [
        "## Generate Images"
      ]
    },
    {
      "cell_type": "code",
      "metadata": {
        "id": "n_7mJPVGl9Ko",
        "colab_type": "code",
        "colab": {}
      },
      "source": [
        ""
      ],
      "execution_count": 0,
      "outputs": []
    }
  ]
}